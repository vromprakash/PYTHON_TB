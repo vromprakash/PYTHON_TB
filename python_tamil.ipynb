{
 "cells": [
  {
   "cell_type": "code",
   "execution_count": 5,
   "id": "33900bff",
   "metadata": {},
   "outputs": [
    {
     "name": "stdout",
     "output_type": "stream",
     "text": [
      "omprakash\n"
     ]
    }
   ],
   "source": [
    "print ('omprakash')"
   ]
  },
  {
   "cell_type": "code",
   "execution_count": 4,
   "id": "de3c0daa",
   "metadata": {},
   "outputs": [
    {
     "name": "stdout",
     "output_type": "stream",
     "text": [
      "omprakash\n"
     ]
    }
   ],
   "source": [
    "print (\"omprakash\")"
   ]
  },
  {
   "cell_type": "code",
   "execution_count": 8,
   "id": "cf608e37",
   "metadata": {},
   "outputs": [
    {
     "name": "stdout",
     "output_type": "stream",
     "text": [
      "hi hello world\n",
      "hi \n",
      "hi hello world\n"
     ]
    }
   ],
   "source": [
    "print('hi hello world')\n",
    "print('hi ')\n",
    "#print('hi hello ')\n",
    "print('hi hello world')\n"
   ]
  },
  {
   "cell_type": "code",
   "execution_count": 11,
   "id": "097a24cd",
   "metadata": {},
   "outputs": [
    {
     "name": "stdout",
     "output_type": "stream",
     "text": [
      "hi\n",
      "Hello\n",
      "Welcome\n"
     ]
    }
   ],
   "source": [
    "# \\ - escape character\n",
    "# n - new line - next line\n",
    "# t -tab\n",
    "# b -backspace\n",
    "\n",
    "print(\"hi\\nHello\\nWelcome\")"
   ]
  },
  {
   "cell_type": "code",
   "execution_count": 9,
   "id": "9ceae6f2",
   "metadata": {},
   "outputs": [
    {
     "name": "stdout",
     "output_type": "stream",
     "text": [
      "hi hello world\n",
      "hi \n",
      "hi hello world\n"
     ]
    }
   ],
   "source": [
    "# this is used to print the statement\n",
    "print('hi hello world')\n",
    "print('hi ')\n",
    "#print('hi hello ')\n",
    "print('hi hello world')"
   ]
  },
  {
   "cell_type": "code",
   "execution_count": 12,
   "id": "52791678",
   "metadata": {},
   "outputs": [
    {
     "name": "stdout",
     "output_type": "stream",
     "text": [
      "Hi\tHello\tWelcome\n"
     ]
    }
   ],
   "source": [
    "print(\"Hi\\tHello\\tWelcome\")"
   ]
  },
  {
   "cell_type": "code",
   "execution_count": 10,
   "id": "5fc9809e",
   "metadata": {},
   "outputs": [],
   "source": [
    "## two types of comment \n",
    "## first :single line comment : uses hash symbol # (ctrl+/) and (ctrl +?)\n",
    "## second :multiple line comment : has three double quotes at start and three double quotes at end\n",
    "\n"
   ]
  },
  {
   "cell_type": "code",
   "execution_count": 13,
   "id": "58b6331b",
   "metadata": {},
   "outputs": [
    {
     "name": "stdout",
     "output_type": "stream",
     "text": [
      "Hi\bHello  \bWelcome\n"
     ]
    }
   ],
   "source": [
    "print(\"Hi\\bHello  \\bWelcome\")"
   ]
  },
  {
   "cell_type": "code",
   "execution_count": 14,
   "id": "927bd4df",
   "metadata": {},
   "outputs": [
    {
     "name": "stdout",
     "output_type": "stream",
     "text": [
      "Hi \bHello  \bWelcome\n"
     ]
    }
   ],
   "source": [
    "print(\"Hi \\bHello  \\bWelcome\")"
   ]
  },
  {
   "cell_type": "code",
   "execution_count": 15,
   "id": "7f102a65",
   "metadata": {},
   "outputs": [
    {
     "name": "stderr",
     "output_type": "stream",
     "text": [
      "Hello\n",
      "Error has occured\n",
      "This is an warning\n",
      "This is an critical error\n"
     ]
    }
   ],
   "source": [
    "import logging\n",
    "logger = logging.getLogger()\n",
    "logger.error(\"Hello\")\n",
    "logger.error(\"Error has occured\")\n",
    "logger.warning(\"This is an warning\")\n",
    "logger.critical(\"This is an critical error\")\n"
   ]
  },
  {
   "cell_type": "code",
   "execution_count": 16,
   "id": "7edb5c21",
   "metadata": {},
   "outputs": [
    {
     "name": "stderr",
     "output_type": "stream",
     "text": [
      "Hello\n",
      "Error has occured \n",
      " this is just for demo purpuse \n",
      " checking backslash n is working or not\n",
      "This is an warning\n",
      "This is an critical error\n"
     ]
    }
   ],
   "source": [
    "import logging\n",
    "logger = logging.getLogger()\n",
    "logger.error(\"Hello\")\n",
    "logger.error(\"Error has occured \\n this is just for demo purpuse \\n checking backslash n is working or not\")\n",
    "logger.warning(\"This is an warning\")\n",
    "logger.critical(\"This is an critical error\")"
   ]
  },
  {
   "cell_type": "code",
   "execution_count": null,
   "id": "33dc3bfd",
   "metadata": {},
   "outputs": [],
   "source": []
  }
 ],
 "metadata": {
  "kernelspec": {
   "display_name": "Python 3 (ipykernel)",
   "language": "python",
   "name": "python3"
  },
  "language_info": {
   "codemirror_mode": {
    "name": "ipython",
    "version": 3
   },
   "file_extension": ".py",
   "mimetype": "text/x-python",
   "name": "python",
   "nbconvert_exporter": "python",
   "pygments_lexer": "ipython3",
   "version": "3.9.13"
  }
 },
 "nbformat": 4,
 "nbformat_minor": 5
}
