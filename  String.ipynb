{
 "cells": [
  {
   "cell_type": "code",
   "execution_count": 1,
   "id": "68295bd1",
   "metadata": {},
   "outputs": [
    {
     "name": "stdout",
     "output_type": "stream",
     "text": [
      "welcome to Python world\n"
     ]
    }
   ],
   "source": [
    "print (\"welcome to Python world\")"
   ]
  },
  {
   "cell_type": "code",
   "execution_count": null,
   "id": "db6cf573",
   "metadata": {},
   "outputs": [],
   "source": [
    "a=\"welcome to Python world\"\n",
    "# a - variable\n",
    "# value = \"welcome to Python world\" (called data)\n",
    "# data = data type\n",
    "# string - something comes in quotes"
   ]
  },
  {
   "cell_type": "code",
   "execution_count": 3,
   "id": "3d3948af",
   "metadata": {},
   "outputs": [
    {
     "name": "stdout",
     "output_type": "stream",
     "text": [
      "<class 'str'>\n"
     ]
    }
   ],
   "source": [
    "# string - something comes in quotes\n",
    "a =\"test\"\n",
    "print (type(a))\n"
   ]
  },
  {
   "cell_type": "code",
   "execution_count": 4,
   "id": "913d3dbb",
   "metadata": {},
   "outputs": [
    {
     "name": "stdout",
     "output_type": "stream",
     "text": [
      "True\n"
     ]
    }
   ],
   "source": [
    "print(isinstance(a,str))"
   ]
  },
  {
   "cell_type": "code",
   "execution_count": 5,
   "id": "dd7c0da3",
   "metadata": {},
   "outputs": [],
   "source": [
    "a =\"SachinTendulkar\"\n"
   ]
  },
  {
   "cell_type": "code",
   "execution_count": 6,
   "id": "91f1ef1f",
   "metadata": {},
   "outputs": [
    {
     "name": "stdout",
     "output_type": "stream",
     "text": [
      "15\n",
      "S\n",
      "u\n",
      "['S', 'T', 'a', 'a', 'c', 'd', 'e', 'h', 'i', 'k', 'l', 'n', 'n', 'r', 'u']\n"
     ]
    }
   ],
   "source": [
    "print(len(a)) # Length\n",
    "print(min(a)) # minimum value\n",
    "print(max(a)) # maximum value\n",
    "print(sorted(a)) # sorts in ascending order\n",
    "# depends on ASCII code"
   ]
  },
  {
   "cell_type": "code",
   "execution_count": 7,
   "id": "a131437c",
   "metadata": {},
   "outputs": [
    {
     "name": "stdout",
     "output_type": "stream",
     "text": [
      "True\n",
      "True\n",
      "False\n"
     ]
    }
   ],
   "source": [
    "print(a.isalpha()) # check the string is alphabatic or not?\n",
    "print(a.isalnum())# check the string is alpha or numeric?\n",
    "print(a.isdigit()) # check the string has number?"
   ]
  },
  {
   "cell_type": "code",
   "execution_count": 16,
   "id": "08e2d4ce",
   "metadata": {},
   "outputs": [],
   "source": [
    "a =\"SachinTendulkar100\""
   ]
  },
  {
   "cell_type": "code",
   "execution_count": 9,
   "id": "d5b3e536",
   "metadata": {},
   "outputs": [
    {
     "name": "stdout",
     "output_type": "stream",
     "text": [
      "False\n",
      "True\n",
      "False\n"
     ]
    }
   ],
   "source": [
    "print(a.isalpha()) # check the string is alphabatic or not?\n",
    "print(a.isalnum())# check the string is alpha or numeric?\n",
    "print(a.isdigit()) # check the string has number?"
   ]
  },
  {
   "cell_type": "code",
   "execution_count": 12,
   "id": "de3f3c57",
   "metadata": {},
   "outputs": [
    {
     "name": "stdout",
     "output_type": "stream",
     "text": [
      "False\n",
      "False\n",
      "SACHINTENDULKAR100\n",
      "sachintendulkar100\n",
      "sACHINtENDULKAR100\n"
     ]
    }
   ],
   "source": [
    "print(a.isupper()) # check upper case  or not?\n",
    "print(a.islower())# check lower case  or not?\n",
    "print(a.upper()) # make all the words to upper case\n",
    "print(a.lower()) # make all the words to lower case\n",
    "print (a.swapcase()) # swaps the case"
   ]
  },
  {
   "cell_type": "code",
   "execution_count": 13,
   "id": "94eff4b1",
   "metadata": {},
   "outputs": [],
   "source": [
    "s=\"SACHINTENDULKAR\""
   ]
  },
  {
   "cell_type": "code",
   "execution_count": 14,
   "id": "326ad426",
   "metadata": {},
   "outputs": [
    {
     "name": "stdout",
     "output_type": "stream",
     "text": [
      "['A', 'A', 'C', 'D', 'E', 'H', 'I', 'K', 'L', 'N', 'N', 'R', 'S', 'T', 'U']\n"
     ]
    }
   ],
   "source": [
    "print(sorted(s))"
   ]
  },
  {
   "cell_type": "code",
   "execution_count": 18,
   "id": "dd8108be",
   "metadata": {},
   "outputs": [
    {
     "name": "stdout",
     "output_type": "stream",
     "text": [
      "Welcome To Python World\n",
      "Welcome to python world\n"
     ]
    }
   ],
   "source": [
    "a = \"welcome to Python world\"\n",
    "print (a.title())\n",
    "print(a.capitalize())"
   ]
  },
  {
   "cell_type": "code",
   "execution_count": 19,
   "id": "480ffa42",
   "metadata": {},
   "outputs": [],
   "source": [
    "# FORWARD INDEXING\n",
    "# --------------->\n",
    "# 0 1 2 3 4 5 \n",
    "# P Y T H O N\n",
    "#-6 -5 -4 -3 -2 -1\n",
    "#<----------------\n",
    "#REVERSE INDEXING\n"
   ]
  },
  {
   "cell_type": "code",
   "execution_count": 20,
   "id": "6b59ff22",
   "metadata": {},
   "outputs": [
    {
     "name": "stdout",
     "output_type": "stream",
     "text": [
      "SachinTendulkar\n"
     ]
    }
   ],
   "source": [
    "a =\"SachinTendulkar\"\n",
    "print (a)"
   ]
  },
  {
   "cell_type": "code",
   "execution_count": 23,
   "id": "07410171",
   "metadata": {},
   "outputs": [
    {
     "name": "stdout",
     "output_type": "stream",
     "text": [
      "T\n"
     ]
    }
   ],
   "source": [
    "a =\"SachinTendulkar\"\n",
    "print (a[6])"
   ]
  },
  {
   "cell_type": "code",
   "execution_count": 24,
   "id": "f7067a0f",
   "metadata": {},
   "outputs": [],
   "source": [
    "## start:end : interval"
   ]
  },
  {
   "cell_type": "code",
   "execution_count": 25,
   "id": "1b3ada30",
   "metadata": {},
   "outputs": [
    {
     "name": "stdout",
     "output_type": "stream",
     "text": [
      "hinTend\n"
     ]
    }
   ],
   "source": [
    "print(a[3:10])"
   ]
  },
  {
   "cell_type": "code",
   "execution_count": 26,
   "id": "f7eb1b85",
   "metadata": {},
   "outputs": [
    {
     "name": "stdout",
     "output_type": "stream",
     "text": [
      "SachinTendulkar\n"
     ]
    }
   ],
   "source": [
    "print(a[:])"
   ]
  },
  {
   "cell_type": "code",
   "execution_count": 27,
   "id": "5974dab4",
   "metadata": {},
   "outputs": [
    {
     "name": "stdout",
     "output_type": "stream",
     "text": [
      "r\n"
     ]
    }
   ],
   "source": [
    "print(a[-1])"
   ]
  },
  {
   "cell_type": "code",
   "execution_count": 28,
   "id": "61e67ef6",
   "metadata": {},
   "outputs": [
    {
     "name": "stdout",
     "output_type": "stream",
     "text": [
      "r\n"
     ]
    }
   ],
   "source": [
    "print(a[14])"
   ]
  },
  {
   "cell_type": "code",
   "execution_count": 29,
   "id": "1c78de8d",
   "metadata": {},
   "outputs": [
    {
     "name": "stdout",
     "output_type": "stream",
     "text": [
      "SachinTendulkar\n"
     ]
    }
   ],
   "source": [
    "print(a[:])\n"
   ]
  },
  {
   "cell_type": "code",
   "execution_count": 30,
   "id": "8a77fcf7",
   "metadata": {},
   "outputs": [
    {
     "name": "stdout",
     "output_type": "stream",
     "text": [
      "SciTnukr\n"
     ]
    }
   ],
   "source": [
    "print(a[::2])"
   ]
  },
  {
   "cell_type": "code",
   "execution_count": 31,
   "id": "2869fbed",
   "metadata": {},
   "outputs": [
    {
     "name": "stdout",
     "output_type": "stream",
     "text": [
      "Snu\n"
     ]
    }
   ],
   "source": [
    "print(a[::5])"
   ]
  },
  {
   "cell_type": "code",
   "execution_count": 32,
   "id": "01483139",
   "metadata": {},
   "outputs": [
    {
     "name": "stdout",
     "output_type": "stream",
     "text": [
      "Sink\n"
     ]
    }
   ],
   "source": [
    "print(a[::4])"
   ]
  },
  {
   "cell_type": "code",
   "execution_count": 33,
   "id": "ac06178d",
   "metadata": {},
   "outputs": [],
   "source": [
    "a =\"SachinTendulkar\"\n"
   ]
  },
  {
   "cell_type": "code",
   "execution_count": 34,
   "id": "002e2612",
   "metadata": {},
   "outputs": [
    {
     "name": "stdout",
     "output_type": "stream",
     "text": [
      "rakludneTnihcaS\n"
     ]
    }
   ],
   "source": [
    "print (a[::-1])"
   ]
  },
  {
   "cell_type": "code",
   "execution_count": 35,
   "id": "51b3a9f4",
   "metadata": {},
   "outputs": [
    {
     "name": "stdout",
     "output_type": "stream",
     "text": [
      "rlnnc\n"
     ]
    }
   ],
   "source": [
    "print (a[::-3])\n"
   ]
  },
  {
   "cell_type": "code",
   "execution_count": 36,
   "id": "4a6f49f8",
   "metadata": {},
   "outputs": [
    {
     "name": "stdout",
     "output_type": "stream",
     "text": [
      "5\n"
     ]
    }
   ],
   "source": [
    "a =\"SachinTendulkar\"\n",
    "print(a.index(\"n\"))"
   ]
  },
  {
   "cell_type": "code",
   "execution_count": 37,
   "id": "0da7703b",
   "metadata": {},
   "outputs": [
    {
     "name": "stdout",
     "output_type": "stream",
     "text": [
      "4\n"
     ]
    }
   ],
   "source": [
    "print(a.index(\"i\"))"
   ]
  },
  {
   "cell_type": "code",
   "execution_count": 38,
   "id": "1579793a",
   "metadata": {},
   "outputs": [
    {
     "name": "stdout",
     "output_type": "stream",
     "text": [
      "13\n"
     ]
    }
   ],
   "source": [
    "# print(a.index(\"a\",start,end))\n",
    "print(a.index(\"a\",2))"
   ]
  },
  {
   "cell_type": "code",
   "execution_count": 39,
   "id": "01eb3c6d",
   "metadata": {},
   "outputs": [
    {
     "name": "stdout",
     "output_type": "stream",
     "text": [
      "1\n"
     ]
    }
   ],
   "source": [
    "print(a.index(\"a\"))"
   ]
  },
  {
   "cell_type": "code",
   "execution_count": 41,
   "id": "982fc504",
   "metadata": {},
   "outputs": [
    {
     "name": "stdout",
     "output_type": "stream",
     "text": [
      "13\n"
     ]
    }
   ],
   "source": [
    "print(a.index(\"a\",2,14))"
   ]
  },
  {
   "cell_type": "code",
   "execution_count": 42,
   "id": "a98ee38c",
   "metadata": {},
   "outputs": [
    {
     "name": "stdout",
     "output_type": "stream",
     "text": [
      "8\n",
      "13\n"
     ]
    }
   ],
   "source": [
    "# Reverse index\n",
    "print(a.rindex(\"n\"))\n",
    "print(a.rindex(\"a\"))"
   ]
  },
  {
   "cell_type": "code",
   "execution_count": 45,
   "id": "d8ab73ad",
   "metadata": {},
   "outputs": [
    {
     "ename": "ValueError",
     "evalue": "substring not found",
     "output_type": "error",
     "traceback": [
      "\u001b[1;31m---------------------------------------------------------------------------\u001b[0m",
      "\u001b[1;31mValueError\u001b[0m                                Traceback (most recent call last)",
      "\u001b[1;32m~\\AppData\\Local\\Temp\\1\\ipykernel_16656\\1437915082.py\u001b[0m in \u001b[0;36m<module>\u001b[1;34m\u001b[0m\n\u001b[1;32m----> 1\u001b[1;33m \u001b[0mprint\u001b[0m\u001b[1;33m(\u001b[0m\u001b[0ma\u001b[0m\u001b[1;33m.\u001b[0m\u001b[0mindex\u001b[0m\u001b[1;33m(\u001b[0m\u001b[1;34m\"z\"\u001b[0m\u001b[1;33m)\u001b[0m\u001b[1;33m)\u001b[0m\u001b[1;33m\u001b[0m\u001b[1;33m\u001b[0m\u001b[0m\n\u001b[0m",
      "\u001b[1;31mValueError\u001b[0m: substring not found"
     ]
    }
   ],
   "source": [
    "print(a.index(\"z\"))"
   ]
  },
  {
   "cell_type": "code",
   "execution_count": 44,
   "id": "7f6194f9",
   "metadata": {},
   "outputs": [
    {
     "name": "stdout",
     "output_type": "stream",
     "text": [
      "5\n",
      "5\n",
      "-1\n"
     ]
    }
   ],
   "source": [
    "## find , r find\n",
    "## find and index is same - unless find returns -1 if the substring is not found\n",
    "print(a.index(\"n\"))\n",
    "print(a.find(\"n\"))\n",
    "print(a.find(\"z\"))"
   ]
  },
  {
   "cell_type": "code",
   "execution_count": 46,
   "id": "ce208aab",
   "metadata": {},
   "outputs": [
    {
     "name": "stdout",
     "output_type": "stream",
     "text": [
      "-1\n"
     ]
    }
   ],
   "source": [
    "print(a.find(\"z\"))"
   ]
  },
  {
   "cell_type": "code",
   "execution_count": 47,
   "id": "c03b0b23",
   "metadata": {},
   "outputs": [
    {
     "name": "stdout",
     "output_type": "stream",
     "text": [
      "8\n",
      "8\n",
      "-1\n"
     ]
    }
   ],
   "source": [
    "## find , r find\n",
    "## rfind and rindex is same - unless find returns -1 if the substring is not found\n",
    "print(a.rindex(\"n\"))\n",
    "print(a.rfind(\"n\"))\n",
    "print(a.rfind(\"z\"))"
   ]
  },
  {
   "cell_type": "code",
   "execution_count": null,
   "id": "aa18fac4",
   "metadata": {},
   "outputs": [],
   "source": []
  }
 ],
 "metadata": {
  "kernelspec": {
   "display_name": "Python 3 (ipykernel)",
   "language": "python",
   "name": "python3"
  },
  "language_info": {
   "codemirror_mode": {
    "name": "ipython",
    "version": 3
   },
   "file_extension": ".py",
   "mimetype": "text/x-python",
   "name": "python",
   "nbconvert_exporter": "python",
   "pygments_lexer": "ipython3",
   "version": "3.9.13"
  }
 },
 "nbformat": 4,
 "nbformat_minor": 5
}
